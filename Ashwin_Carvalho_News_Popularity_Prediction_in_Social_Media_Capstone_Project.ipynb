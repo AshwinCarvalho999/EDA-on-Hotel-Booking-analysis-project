{
  "nbformat": 4,
  "nbformat_minor": 0,
  "metadata": {
    "kernelspec": {
      "display_name": "Python 3",
      "language": "python",
      "name": "python3"
    },
    "language_info": {
      "codemirror_mode": {
        "name": "ipython",
        "version": 3
      },
      "file_extension": ".py",
      "mimetype": "text/x-python",
      "name": "python",
      "nbconvert_exporter": "python",
      "pygments_lexer": "ipython3",
      "version": "3.6.6"
    },
    "colab": {
      "name": "Ashwin Carvalho News Popularity Prediction in Social Media - Capstone Project.ipynb",
      "provenance": [],
      "collapsed_sections": [],
      "include_colab_link": true
    }
  },
  "cells": [
    {
      "cell_type": "markdown",
      "metadata": {
        "id": "view-in-github",
        "colab_type": "text"
      },
      "source": [
        "<a href=\"https://colab.research.google.com/github/AshwinCarvalho999/EDA-on-Hotel-Booking-analysis-project/blob/main/Ashwin_Carvalho_News_Popularity_Prediction_in_Social_Media_Capstone_Project.ipynb\" target=\"_parent\"><img src=\"https://colab.research.google.com/assets/colab-badge.svg\" alt=\"Open In Colab\"/></a>"
      ]
    },
    {
      "cell_type": "markdown",
      "metadata": {
        "id": "tOGC-qoyhJeX"
      },
      "source": [
        "# <b><u> Project Title : Predicting the news popularity in multiple social media platforms. </u></b>"
      ]
    },
    {
      "cell_type": "markdown",
      "metadata": {
        "id": "Y06xIdG26kRF"
      },
      "source": [
        "## <b> Problem Description </b>\n",
        "\n",
        "### This is a large data set of news items and their respective social feedback on multiple platforms: Facebook, Google+ and LinkedIn.The collected data relates to a period of 8 months, between November 2015 and July 2016, accounting for about 100,000 news items on four different topics: Economy, Microsoft, Obama and Palestine.\n"
      ]
    },
    {
      "cell_type": "markdown",
      "metadata": {
        "id": "AlLxAtlziMbP"
      },
      "source": [
        "## <b> Data Description </b>\n",
        "\n",
        "### <b>Attribute Information: </b>\n",
        "\n",
        "* ### IDLink (numeric): Unique identifier of news items\n",
        "* ### Title (string): Title of the news item according to the official media sources\n",
        "* ### Headline (string): Headline of the news item according to the official media sources\n",
        "* ### Source (string): Original news outlet that published the news item\n",
        "* ### Topic (string): Query topic used to obtain the items in the official media sources\n",
        "* ### PublishDate (timestamp): Date and time of the news items' publication\n",
        "* ### SentimentTitle (numeric): Sentiment score of the text in the news items' title\n",
        "* ### SentimentHeadline (numeric): Sentiment score of the text in the news items' headline\n",
        "* ### Facebook (numeric): Final value of the news items' popularity according to the social media source Facebook\n",
        "* ### GooglePlus (numeric): Final value of the news items' popularity according to the social media source Google+\n",
        "* ### LinkedIn (numeric): Final value of the news items' popularity according to the social media source LinkedIn\n",
        "\n",
        "\n",
        "### VARIABLES OF SOCIAL FEEDBACK DATA\n",
        "\n",
        "* ### IDLink (numeric): Unique identifier of news items\n",
        "* ### TS1 (numeric): Level of popularity in time slice 1 (0-20 minutes upon publication)\n",
        "* ### TS2 (numeric): Level of popularity in time slice 2 (20-40 minutes upon publication)\n",
        "* ### TS... (numeric): Level of popularity in time slice ...\n",
        "* ### TS144 (numeric): Final level of popularity after 2 days upon publication"
      ]
    },
    {
      "cell_type": "code",
      "metadata": {
        "id": "dByMsuzT8Tnw",
        "colab": {
          "base_uri": "https://localhost:8080/"
        },
        "outputId": "317f14a1-198b-4ac1-fbec-f86384f6344d"
      },
      "source": [
        "#Importing all the important librarys.\n",
        "import pandas as pd\n",
        "import numpy as np\n",
        "import matplotlib.pyplot as plt\n",
        "import seaborn as sns\n",
        "%matplotlib inline\n",
        "import math\n",
        "import nltk\n",
        "nltk.download('stopwords')\n",
        "nltk.download('wordnet')\n",
        "nltk.download('averaged_perceptron_tagger')\n",
        "from sklearn.pipeline import Pipeline\n",
        "from sklearn.metrics import classification_report,confusion_matrix\n",
        "from string import punctuation\n",
        "from nltk.corpus import stopwords\n",
        "from sklearn.linear_model import LinearRegression\n",
        "from sklearn.ensemble import RandomForestRegressor\n",
        "from xgboost import XGBRegressor\n",
        "from nltk.stem import WordNetLemmatizer\n",
        "from nltk.corpus import wordnet\n",
        "import spacy\n",
        "from spacy.lang.en import English\n",
        "from sklearn.model_selection import GridSearchCV\n",
        "from spacy.lang.en.stop_words import STOP_WORDS\n",
        "from sklearn.decomposition import PCA\n",
        "from sklearn.metrics import r2_score\n",
        "from sklearn.metrics import mean_squared_error\n",
        "from sklearn.metrics import mean_absolute_error\n",
        "from sklearn.model_selection import train_test_split\n",
        "from sklearn.feature_extraction.text import TfidfVectorizer\n"
      ],
      "execution_count": 1,
      "outputs": [
        {
          "output_type": "stream",
          "text": [
            "[nltk_data] Downloading package stopwords to /root/nltk_data...\n",
            "[nltk_data]   Unzipping corpora/stopwords.zip.\n",
            "[nltk_data] Downloading package wordnet to /root/nltk_data...\n",
            "[nltk_data]   Unzipping corpora/wordnet.zip.\n",
            "[nltk_data] Downloading package averaged_perceptron_tagger to\n",
            "[nltk_data]     /root/nltk_data...\n",
            "[nltk_data]   Unzipping taggers/averaged_perceptron_tagger.zip.\n"
          ],
          "name": "stdout"
        }
      ]
    },
    {
      "cell_type": "code",
      "metadata": {
        "id": "Z6Yn4wMAkaju"
      },
      "source": [
        "punctuation=list(punctuation)\n",
        "punctuation.append(\"..\")"
      ],
      "execution_count": 2,
      "outputs": []
    },
    {
      "cell_type": "code",
      "metadata": {
        "colab": {
          "base_uri": "https://localhost:8080/"
        },
        "id": "J5ipLC3tkAlb",
        "outputId": "7a75e431-2c63-4d4b-c27e-5b88f9a8e7d0"
      },
      "source": [
        "from google.colab import drive\n",
        "drive.mount('/content/drive')"
      ],
      "execution_count": 4,
      "outputs": [
        {
          "output_type": "stream",
          "text": [
            "Mounted at /content/drive\n"
          ],
          "name": "stdout"
        }
      ]
    },
    {
      "cell_type": "code",
      "metadata": {
        "id": "I5FHMf3OkT1n"
      },
      "source": [
        "#loading csv file.\n",
        "news_df=pd.read_csv('/content/drive/MyDrive/News_Final.csv')"
      ],
      "execution_count": 5,
      "outputs": []
    },
    {
      "cell_type": "code",
      "metadata": {
        "colab": {
          "base_uri": "https://localhost:8080/"
        },
        "id": "zBwaAJ39k3R_",
        "outputId": "5c0b93ee-2580-415e-9bb2-11665c2934ef"
      },
      "source": [
        "#finding the size of data set.\n",
        "news_df.shape"
      ],
      "execution_count": 6,
      "outputs": [
        {
          "output_type": "execute_result",
          "data": {
            "text/plain": [
              "(93239, 11)"
            ]
          },
          "metadata": {},
          "execution_count": 6
        }
      ]
    },
    {
      "cell_type": "code",
      "metadata": {
        "colab": {
          "base_uri": "https://localhost:8080/",
          "height": 287
        },
        "id": "_cDraMTllNst",
        "outputId": "c10a897d-148c-4617-9f29-bee7cbe26e84"
      },
      "source": [
        "news_df.head()"
      ],
      "execution_count": 7,
      "outputs": [
        {
          "output_type": "execute_result",
          "data": {
            "text/html": [
              "<div>\n",
              "<style scoped>\n",
              "    .dataframe tbody tr th:only-of-type {\n",
              "        vertical-align: middle;\n",
              "    }\n",
              "\n",
              "    .dataframe tbody tr th {\n",
              "        vertical-align: top;\n",
              "    }\n",
              "\n",
              "    .dataframe thead th {\n",
              "        text-align: right;\n",
              "    }\n",
              "</style>\n",
              "<table border=\"1\" class=\"dataframe\">\n",
              "  <thead>\n",
              "    <tr style=\"text-align: right;\">\n",
              "      <th></th>\n",
              "      <th>IDLink</th>\n",
              "      <th>Title</th>\n",
              "      <th>Headline</th>\n",
              "      <th>Source</th>\n",
              "      <th>Topic</th>\n",
              "      <th>PublishDate</th>\n",
              "      <th>SentimentTitle</th>\n",
              "      <th>SentimentHeadline</th>\n",
              "      <th>Facebook</th>\n",
              "      <th>GooglePlus</th>\n",
              "      <th>LinkedIn</th>\n",
              "    </tr>\n",
              "  </thead>\n",
              "  <tbody>\n",
              "    <tr>\n",
              "      <th>0</th>\n",
              "      <td>99248.0</td>\n",
              "      <td>Obama Lays Wreath at Arlington National Cemetery</td>\n",
              "      <td>Obama Lays Wreath at Arlington National Cemete...</td>\n",
              "      <td>USA TODAY</td>\n",
              "      <td>obama</td>\n",
              "      <td>2002-04-02 00:00:00</td>\n",
              "      <td>0.000000</td>\n",
              "      <td>-0.053300</td>\n",
              "      <td>-1</td>\n",
              "      <td>-1</td>\n",
              "      <td>-1</td>\n",
              "    </tr>\n",
              "    <tr>\n",
              "      <th>1</th>\n",
              "      <td>10423.0</td>\n",
              "      <td>A Look at the Health of the Chinese Economy</td>\n",
              "      <td>Tim Haywood, investment director business-unit...</td>\n",
              "      <td>Bloomberg</td>\n",
              "      <td>economy</td>\n",
              "      <td>2008-09-20 00:00:00</td>\n",
              "      <td>0.208333</td>\n",
              "      <td>-0.156386</td>\n",
              "      <td>-1</td>\n",
              "      <td>-1</td>\n",
              "      <td>-1</td>\n",
              "    </tr>\n",
              "    <tr>\n",
              "      <th>2</th>\n",
              "      <td>18828.0</td>\n",
              "      <td>Nouriel Roubini: Global Economy Not Back to 2008</td>\n",
              "      <td>Nouriel Roubini, NYU professor and chairman at...</td>\n",
              "      <td>Bloomberg</td>\n",
              "      <td>economy</td>\n",
              "      <td>2012-01-28 00:00:00</td>\n",
              "      <td>-0.425210</td>\n",
              "      <td>0.139754</td>\n",
              "      <td>-1</td>\n",
              "      <td>-1</td>\n",
              "      <td>-1</td>\n",
              "    </tr>\n",
              "    <tr>\n",
              "      <th>3</th>\n",
              "      <td>27788.0</td>\n",
              "      <td>Finland GDP Expands In Q4</td>\n",
              "      <td>Finland's economy expanded marginally in the t...</td>\n",
              "      <td>RTT News</td>\n",
              "      <td>economy</td>\n",
              "      <td>2015-03-01 00:06:00</td>\n",
              "      <td>0.000000</td>\n",
              "      <td>0.026064</td>\n",
              "      <td>-1</td>\n",
              "      <td>-1</td>\n",
              "      <td>-1</td>\n",
              "    </tr>\n",
              "    <tr>\n",
              "      <th>4</th>\n",
              "      <td>27789.0</td>\n",
              "      <td>Tourism, govt spending buoys Thai economy in J...</td>\n",
              "      <td>Tourism and public spending continued to boost...</td>\n",
              "      <td>The Nation - Thailand&amp;#39;s English news</td>\n",
              "      <td>economy</td>\n",
              "      <td>2015-03-01 00:11:00</td>\n",
              "      <td>0.000000</td>\n",
              "      <td>0.141084</td>\n",
              "      <td>-1</td>\n",
              "      <td>-1</td>\n",
              "      <td>-1</td>\n",
              "    </tr>\n",
              "  </tbody>\n",
              "</table>\n",
              "</div>"
            ],
            "text/plain": [
              "    IDLink  ... LinkedIn\n",
              "0  99248.0  ...       -1\n",
              "1  10423.0  ...       -1\n",
              "2  18828.0  ...       -1\n",
              "3  27788.0  ...       -1\n",
              "4  27789.0  ...       -1\n",
              "\n",
              "[5 rows x 11 columns]"
            ]
          },
          "metadata": {},
          "execution_count": 7
        }
      ]
    },
    {
      "cell_type": "code",
      "metadata": {
        "colab": {
          "base_uri": "https://localhost:8080/"
        },
        "id": "8NgJb30plVeg",
        "outputId": "3f3a77f9-089d-434f-a3ac-a2c556db1cd7"
      },
      "source": [
        "#finding the source of news.\n",
        "news_df['Source'].value_counts()"
      ],
      "execution_count": 8,
      "outputs": [
        {
          "output_type": "execute_result",
          "data": {
            "text/plain": [
              "Bloomberg                             1732\n",
              "Reuters                               1321\n",
              "ABC News                              1098\n",
              "New York Times                         992\n",
              "The Guardian                           933\n",
              "                                      ... \n",
              "Aircraft Maintenance Technology          1\n",
              "Frederick News Post (subscription)       1\n",
              "Myanmar Times                            1\n",
              "Leaders Tunisie                          1\n",
              "TG Daily                                 1\n",
              "Name: Source, Length: 5756, dtype: int64"
            ]
          },
          "metadata": {},
          "execution_count": 8
        }
      ]
    },
    {
      "cell_type": "code",
      "metadata": {
        "id": "HOC4hGdpl3wj"
      },
      "source": [
        "#droping out the null values.\n",
        "news_df.dropna(inplace=True,axis=0)"
      ],
      "execution_count": 9,
      "outputs": []
    },
    {
      "cell_type": "code",
      "metadata": {
        "colab": {
          "base_uri": "https://localhost:8080/"
        },
        "id": "L99mMzbnmLjY",
        "outputId": "6de06f02-5aa9-4a80-bd2d-8085780fc82b"
      },
      "source": [
        "#checking if there are null values or not.\n",
        "news_df.isnull().sum()"
      ],
      "execution_count": 10,
      "outputs": [
        {
          "output_type": "execute_result",
          "data": {
            "text/plain": [
              "IDLink               0\n",
              "Title                0\n",
              "Headline             0\n",
              "Source               0\n",
              "Topic                0\n",
              "PublishDate          0\n",
              "SentimentTitle       0\n",
              "SentimentHeadline    0\n",
              "Facebook             0\n",
              "GooglePlus           0\n",
              "LinkedIn             0\n",
              "dtype: int64"
            ]
          },
          "metadata": {},
          "execution_count": 10
        }
      ]
    },
    {
      "cell_type": "code",
      "metadata": {
        "colab": {
          "base_uri": "https://localhost:8080/"
        },
        "id": "85jAI3YVm2mY",
        "outputId": "9703554a-565b-491f-a643-bfce4226f0c4"
      },
      "source": [
        "news_df.info()"
      ],
      "execution_count": 11,
      "outputs": [
        {
          "output_type": "stream",
          "text": [
            "<class 'pandas.core.frame.DataFrame'>\n",
            "Int64Index: 92945 entries, 0 to 93238\n",
            "Data columns (total 11 columns):\n",
            " #   Column             Non-Null Count  Dtype  \n",
            "---  ------             --------------  -----  \n",
            " 0   IDLink             92945 non-null  float64\n",
            " 1   Title              92945 non-null  object \n",
            " 2   Headline           92945 non-null  object \n",
            " 3   Source             92945 non-null  object \n",
            " 4   Topic              92945 non-null  object \n",
            " 5   PublishDate        92945 non-null  object \n",
            " 6   SentimentTitle     92945 non-null  float64\n",
            " 7   SentimentHeadline  92945 non-null  float64\n",
            " 8   Facebook           92945 non-null  int64  \n",
            " 9   GooglePlus         92945 non-null  int64  \n",
            " 10  LinkedIn           92945 non-null  int64  \n",
            "dtypes: float64(3), int64(3), object(5)\n",
            "memory usage: 8.5+ MB\n"
          ],
          "name": "stdout"
        }
      ]
    },
    {
      "cell_type": "code",
      "metadata": {
        "colab": {
          "base_uri": "https://localhost:8080/",
          "height": 282
        },
        "id": "u3T2KTf4m8ib",
        "outputId": "616b9818-79f2-4146-8234-93b5c2d868e8"
      },
      "source": [
        "#ploting a barplot on topics.\n",
        "news_df['Topic'].value_counts().plot(kind='barh',grid=True)"
      ],
      "execution_count": 12,
      "outputs": [
        {
          "output_type": "execute_result",
          "data": {
            "text/plain": [
              "<matplotlib.axes._subplots.AxesSubplot at 0x7f03e9764450>"
            ]
          },
          "metadata": {},
          "execution_count": 12
        },
        {
          "output_type": "display_data",
          "data": {
            "image/png": "[encoded data removed]",
            "text/plain": [
              "<Figure size 432x288 with 1 Axes>"
            ]
          },
          "metadata": {
            "needs_background": "light"
          }
        }
      ]
    },
    {
      "cell_type": "code",
      "metadata": {
        "colab": {
          "base_uri": "https://localhost:8080/",
          "height": 613
        },
        "id": "opX2M-O9nbL4",
        "outputId": "3b84183a-759a-4cd3-8018-1b0bb2704188"
      },
      "source": [
        "#ploting a heatmap between dataset to find the correlation.\n",
        "plt.figure(figsize=(12,10))\n",
        "sns.heatmap(data=news_df.corr(),cmap='coolwarm',annot=True)"
      ],
      "execution_count": 13,
      "outputs": [
        {
          "output_type": "execute_result",
          "data": {
            "text/plain": [
              "<matplotlib.axes._subplots.AxesSubplot at 0x7f03e96ecb10>"
            ]
          },
          "metadata": {},
          "execution_count": 13
        },
        {
          "output_type": "display_data",
          "data": {
            "image/png": "[encoded data removed]",
            "text/plain": [
              "<Figure size 864x720 with 2 Axes>"
            ]
          },
          "metadata": {
            "needs_background": "light"
          }
        }
      ]
    },
    {
      "cell_type": "code",
      "metadata": {
        "colab": {
          "base_uri": "https://localhost:8080/",
          "height": 441
        },
        "id": "iHw_uuKKn5c4",
        "outputId": "389cbffc-e6bf-4004-deb9-d5cc9ae00cb0"
      },
      "source": [
        "#creating Jointploat   \n",
        "sns.jointplot(x='SentimentTitle',y='SentimentHeadline',data=news_df,kind = 'reg')\n",
        "plt.show()"
      ],
      "execution_count": 14,
      "outputs": [
        {
          "output_type": "display_data",
          "data": {
            "image/png": "[encoded data removed]",
            "text/plain": [
              "<Figure size 432x432 with 3 Axes>"
            ]
          },
          "metadata": {
            "needs_background": "light"
          }
        }
      ]
    },
    {
      "cell_type": "code",
      "metadata": {
        "colab": {
          "base_uri": "https://localhost:8080/",
          "height": 287
        },
        "id": "UWksyOyCplTG",
        "outputId": "3a404218-cdfa-46cf-a239-c39749552305"
      },
      "source": [
        "news_df.head()"
      ],
      "execution_count": 15,
      "outputs": [
        {
          "output_type": "execute_result",
          "data": {
            "text/html": [
              "<div>\n",
              "<style scoped>\n",
              "    .dataframe tbody tr th:only-of-type {\n",
              "        vertical-align: middle;\n",
              "    }\n",
              "\n",
              "    .dataframe tbody tr th {\n",
              "        vertical-align: top;\n",
              "    }\n",
              "\n",
              "    .dataframe thead th {\n",
              "        text-align: right;\n",
              "    }\n",
              "</style>\n",
              "<table border=\"1\" class=\"dataframe\">\n",
              "  <thead>\n",
              "    <tr style=\"text-align: right;\">\n",
              "      <th></th>\n",
              "      <th>IDLink</th>\n",
              "      <th>Title</th>\n",
              "      <th>Headline</th>\n",
              "      <th>Source</th>\n",
              "      <th>Topic</th>\n",
              "      <th>PublishDate</th>\n",
              "      <th>SentimentTitle</th>\n",
              "      <th>SentimentHeadline</th>\n",
              "      <th>Facebook</th>\n",
              "      <th>GooglePlus</th>\n",
              "      <th>LinkedIn</th>\n",
              "    </tr>\n",
              "  </thead>\n",
              "  <tbody>\n",
              "    <tr>\n",
              "      <th>0</th>\n",
              "      <td>99248.0</td>\n",
              "      <td>Obama Lays Wreath at Arlington National Cemetery</td>\n",
              "      <td>Obama Lays Wreath at Arlington National Cemete...</td>\n",
              "      <td>USA TODAY</td>\n",
              "      <td>obama</td>\n",
              "      <td>2002-04-02 00:00:00</td>\n",
              "      <td>0.000000</td>\n",
              "      <td>-0.053300</td>\n",
              "      <td>-1</td>\n",
              "      <td>-1</td>\n",
              "      <td>-1</td>\n",
              "    </tr>\n",
              "    <tr>\n",
              "      <th>1</th>\n",
              "      <td>10423.0</td>\n",
              "      <td>A Look at the Health of the Chinese Economy</td>\n",
              "      <td>Tim Haywood, investment director business-unit...</td>\n",
              "      <td>Bloomberg</td>\n",
              "      <td>economy</td>\n",
              "      <td>2008-09-20 00:00:00</td>\n",
              "      <td>0.208333</td>\n",
              "      <td>-0.156386</td>\n",
              "      <td>-1</td>\n",
              "      <td>-1</td>\n",
              "      <td>-1</td>\n",
              "    </tr>\n",
              "    <tr>\n",
              "      <th>2</th>\n",
              "      <td>18828.0</td>\n",
              "      <td>Nouriel Roubini: Global Economy Not Back to 2008</td>\n",
              "      <td>Nouriel Roubini, NYU professor and chairman at...</td>\n",
              "      <td>Bloomberg</td>\n",
              "      <td>economy</td>\n",
              "      <td>2012-01-28 00:00:00</td>\n",
              "      <td>-0.425210</td>\n",
              "      <td>0.139754</td>\n",
              "      <td>-1</td>\n",
              "      <td>-1</td>\n",
              "      <td>-1</td>\n",
              "    </tr>\n",
              "    <tr>\n",
              "      <th>3</th>\n",
              "      <td>27788.0</td>\n",
              "      <td>Finland GDP Expands In Q4</td>\n",
              "      <td>Finland's economy expanded marginally in the t...</td>\n",
              "      <td>RTT News</td>\n",
              "      <td>economy</td>\n",
              "      <td>2015-03-01 00:06:00</td>\n",
              "      <td>0.000000</td>\n",
              "      <td>0.026064</td>\n",
              "      <td>-1</td>\n",
              "      <td>-1</td>\n",
              "      <td>-1</td>\n",
              "    </tr>\n",
              "    <tr>\n",
              "      <th>4</th>\n",
              "      <td>27789.0</td>\n",
              "      <td>Tourism, govt spending buoys Thai economy in J...</td>\n",
              "      <td>Tourism and public spending continued to boost...</td>\n",
              "      <td>The Nation - Thailand&amp;#39;s English news</td>\n",
              "      <td>economy</td>\n",
              "      <td>2015-03-01 00:11:00</td>\n",
              "      <td>0.000000</td>\n",
              "      <td>0.141084</td>\n",
              "      <td>-1</td>\n",
              "      <td>-1</td>\n",
              "      <td>-1</td>\n",
              "    </tr>\n",
              "  </tbody>\n",
              "</table>\n",
              "</div>"
            ],
            "text/plain": [
              "    IDLink  ... LinkedIn\n",
              "0  99248.0  ...       -1\n",
              "1  10423.0  ...       -1\n",
              "2  18828.0  ...       -1\n",
              "3  27788.0  ...       -1\n",
              "4  27789.0  ...       -1\n",
              "\n",
              "[5 rows x 11 columns]"
            ]
          },
          "metadata": {},
          "execution_count": 15
        }
      ]
    },
    {
      "cell_type": "code",
      "metadata": {
        "id": "n6FCoR64qwjJ"
      },
      "source": [
        "#adding new text column dataset.\n",
        "news_df['Text']=news_df['Title']+news_df['Headline']"
      ],
      "execution_count": 16,
      "outputs": []
    },
    {
      "cell_type": "code",
      "metadata": {
        "id": "QB-kx7BMrLPd"
      },
      "source": [
        "def Change_text(msg):\n",
        "  punc=[char for char in msg if char not in punctuation]\n",
        "  no_punc=''.join(punc)\n",
        "  main_text=[word for word in no_punc.split() if word.lower() not in stopwords.words('english')]\n",
        "  return ' '.join(main_text)"
      ],
      "execution_count": 17,
      "outputs": []
    },
    {
      "cell_type": "code",
      "metadata": {
        "colab": {
          "base_uri": "https://localhost:8080/",
          "height": 371
        },
        "id": "ctWAYa26sFh-",
        "outputId": "c3d33573-1a32-4751-d262-5a5917f8a8fd"
      },
      "source": [
        "#checking the new text column added or not.\n",
        "news_df.head()"
      ],
      "execution_count": 18,
      "outputs": [
        {
          "output_type": "execute_result",
          "data": {
            "text/html": [
              "<div>\n",
              "<style scoped>\n",
              "    .dataframe tbody tr th:only-of-type {\n",
              "        vertical-align: middle;\n",
              "    }\n",
              "\n",
              "    .dataframe tbody tr th {\n",
              "        vertical-align: top;\n",
              "    }\n",
              "\n",
              "    .dataframe thead th {\n",
              "        text-align: right;\n",
              "    }\n",
              "</style>\n",
              "<table border=\"1\" class=\"dataframe\">\n",
              "  <thead>\n",
              "    <tr style=\"text-align: right;\">\n",
              "      <th></th>\n",
              "      <th>IDLink</th>\n",
              "      <th>Title</th>\n",
              "      <th>Headline</th>\n",
              "      <th>Source</th>\n",
              "      <th>Topic</th>\n",
              "      <th>PublishDate</th>\n",
              "      <th>SentimentTitle</th>\n",
              "      <th>SentimentHeadline</th>\n",
              "      <th>Facebook</th>\n",
              "      <th>GooglePlus</th>\n",
              "      <th>LinkedIn</th>\n",
              "      <th>Text</th>\n",
              "    </tr>\n",
              "  </thead>\n",
              "  <tbody>\n",
              "    <tr>\n",
              "      <th>0</th>\n",
              "      <td>99248.0</td>\n",
              "      <td>Obama Lays Wreath at Arlington National Cemetery</td>\n",
              "      <td>Obama Lays Wreath at Arlington National Cemete...</td>\n",
              "      <td>USA TODAY</td>\n",
              "      <td>obama</td>\n",
              "      <td>2002-04-02 00:00:00</td>\n",
              "      <td>0.000000</td>\n",
              "      <td>-0.053300</td>\n",
              "      <td>-1</td>\n",
              "      <td>-1</td>\n",
              "      <td>-1</td>\n",
              "      <td>Obama Lays Wreath at Arlington National Cemete...</td>\n",
              "    </tr>\n",
              "    <tr>\n",
              "      <th>1</th>\n",
              "      <td>10423.0</td>\n",
              "      <td>A Look at the Health of the Chinese Economy</td>\n",
              "      <td>Tim Haywood, investment director business-unit...</td>\n",
              "      <td>Bloomberg</td>\n",
              "      <td>economy</td>\n",
              "      <td>2008-09-20 00:00:00</td>\n",
              "      <td>0.208333</td>\n",
              "      <td>-0.156386</td>\n",
              "      <td>-1</td>\n",
              "      <td>-1</td>\n",
              "      <td>-1</td>\n",
              "      <td>A Look at the Health of the Chinese EconomyTim...</td>\n",
              "    </tr>\n",
              "    <tr>\n",
              "      <th>2</th>\n",
              "      <td>18828.0</td>\n",
              "      <td>Nouriel Roubini: Global Economy Not Back to 2008</td>\n",
              "      <td>Nouriel Roubini, NYU professor and chairman at...</td>\n",
              "      <td>Bloomberg</td>\n",
              "      <td>economy</td>\n",
              "      <td>2012-01-28 00:00:00</td>\n",
              "      <td>-0.425210</td>\n",
              "      <td>0.139754</td>\n",
              "      <td>-1</td>\n",
              "      <td>-1</td>\n",
              "      <td>-1</td>\n",
              "      <td>Nouriel Roubini: Global Economy Not Back to 20...</td>\n",
              "    </tr>\n",
              "    <tr>\n",
              "      <th>3</th>\n",
              "      <td>27788.0</td>\n",
              "      <td>Finland GDP Expands In Q4</td>\n",
              "      <td>Finland's economy expanded marginally in the t...</td>\n",
              "      <td>RTT News</td>\n",
              "      <td>economy</td>\n",
              "      <td>2015-03-01 00:06:00</td>\n",
              "      <td>0.000000</td>\n",
              "      <td>0.026064</td>\n",
              "      <td>-1</td>\n",
              "      <td>-1</td>\n",
              "      <td>-1</td>\n",
              "      <td>Finland GDP Expands In Q4Finland's economy exp...</td>\n",
              "    </tr>\n",
              "    <tr>\n",
              "      <th>4</th>\n",
              "      <td>27789.0</td>\n",
              "      <td>Tourism, govt spending buoys Thai economy in J...</td>\n",
              "      <td>Tourism and public spending continued to boost...</td>\n",
              "      <td>The Nation - Thailand&amp;#39;s English news</td>\n",
              "      <td>economy</td>\n",
              "      <td>2015-03-01 00:11:00</td>\n",
              "      <td>0.000000</td>\n",
              "      <td>0.141084</td>\n",
              "      <td>-1</td>\n",
              "      <td>-1</td>\n",
              "      <td>-1</td>\n",
              "      <td>Tourism, govt spending buoys Thai economy in J...</td>\n",
              "    </tr>\n",
              "  </tbody>\n",
              "</table>\n",
              "</div>"
            ],
            "text/plain": [
              "    IDLink  ...                                               Text\n",
              "0  99248.0  ...  Obama Lays Wreath at Arlington National Cemete...\n",
              "1  10423.0  ...  A Look at the Health of the Chinese EconomyTim...\n",
              "2  18828.0  ...  Nouriel Roubini: Global Economy Not Back to 20...\n",
              "3  27788.0  ...  Finland GDP Expands In Q4Finland's economy exp...\n",
              "4  27789.0  ...  Tourism, govt spending buoys Thai economy in J...\n",
              "\n",
              "[5 rows x 12 columns]"
            ]
          },
          "metadata": {},
          "execution_count": 18
        }
      ]
    },
    {
      "cell_type": "code",
      "metadata": {
        "id": "mvRq1pCqtO13"
      },
      "source": [
        "news_df['token_text']=news_df['Text'].apply(Change_text)"
      ],
      "execution_count": 19,
      "outputs": []
    },
    {
      "cell_type": "code",
      "metadata": {
        "colab": {
          "base_uri": "https://localhost:8080/",
          "height": 52
        },
        "id": "u7Df8b_DvKv1",
        "outputId": "6c073739-30e6-4851-d272-5e990a491395"
      },
      "source": [
        "news_df['Text'][1]"
      ],
      "execution_count": 20,
      "outputs": [
        {
          "output_type": "execute_result",
          "data": {
            "application/vnd.google.colaboratory.intrinsic+json": {
              "type": "string"
            },
            "text/plain": [
              "'A Look at the Health of the Chinese EconomyTim Haywood, investment director business-unit head for fixed income at Gam, discusses the China beige book and the state of the economy.'"
            ]
          },
          "metadata": {},
          "execution_count": 20
        }
      ]
    },
    {
      "cell_type": "markdown",
      "metadata": {
        "id": "D7ZgLyfhvUcx"
      },
      "source": [
        "**linear** **regression** **ON** **FACEBOOK**"
      ]
    },
    {
      "cell_type": "code",
      "metadata": {
        "id": "IVH6SOTqvr-C"
      },
      "source": [
        "X=news_df['token_text']\n",
        "Y=news_df['Facebook']\n",
        "\n",
        "X_train,X_test,Y_train,Y_test=train_test_split(X,Y,test_size=0.2)"
      ],
      "execution_count": 21,
      "outputs": []
    },
    {
      "cell_type": "code",
      "metadata": {
        "id": "kaQyo-U_x9KV"
      },
      "source": [
        "vector=TfidfVectorizer(max_df = 0.8,min_df = 8)"
      ],
      "execution_count": 22,
      "outputs": []
    },
    {
      "cell_type": "code",
      "metadata": {
        "colab": {
          "base_uri": "https://localhost:8080/"
        },
        "id": "_zY0MTZZx_eS",
        "outputId": "0823c235-e839-4ffc-be30-3c9e8e12564a"
      },
      "source": [
        "model=LinearRegression()\n",
        "pipe_title = Pipeline([('vectorizer', vector),\n",
        "                     ('regressor', model)])\n",
        "pipe_title.fit(X_train,Y_train)"
      ],
      "execution_count": 23,
      "outputs": [
        {
          "output_type": "execute_result",
          "data": {
            "text/plain": [
              "Pipeline(memory=None,\n",
              "         steps=[('vectorizer',\n",
              "                 TfidfVectorizer(analyzer='word', binary=False,\n",
              "                                 decode_error='strict',\n",
              "                                 dtype=<class 'numpy.float64'>,\n",
              "                                 encoding='utf-8', input='content',\n",
              "                                 lowercase=True, max_df=0.8, max_features=None,\n",
              "                                 min_df=8, ngram_range=(1, 1), norm='l2',\n",
              "                                 preprocessor=None, smooth_idf=True,\n",
              "                                 stop_words=None, strip_accents=None,\n",
              "                                 sublinear_tf=False,\n",
              "                                 token_pattern='(?u)\\\\b\\\\w\\\\w+\\\\b',\n",
              "                                 tokenizer=None, use_idf=True,\n",
              "                                 vocabulary=None)),\n",
              "                ('regressor',\n",
              "                 LinearRegression(copy_X=True, fit_intercept=True, n_jobs=None,\n",
              "                                  normalize=False))],\n",
              "         verbose=False)"
            ]
          },
          "metadata": {},
          "execution_count": 23
        }
      ]
    },
    {
      "cell_type": "code",
      "metadata": {
        "id": "wSZWE0g3ySZj"
      },
      "source": [
        "test_pred_text=pipe_title.predict(X_test)"
      ],
      "execution_count": 24,
      "outputs": []
    },
    {
      "cell_type": "code",
      "metadata": {
        "id": "qa_zMcDgybcR"
      },
      "source": [
        "def print_metrics(actual, predicted):\n",
        "  print('MSE is {}'.format(mean_squared_error(actual, predicted)))\n",
        "  print('RMSE is {}'.format(math.sqrt(mean_squared_error(actual, predicted))))\n",
        "  print('r2 score is {}'.format(r2_score(actual, predicted)))\n",
        "  print('MAE is {}'.format(mean_absolute_error(actual, predicted)))\n",
        "  print('MAPE is {}'.format(np.mean(np.abs((actual - predicted) / actual)) * 100))"
      ],
      "execution_count": 25,
      "outputs": []
    },
    {
      "cell_type": "code",
      "metadata": {
        "colab": {
          "base_uri": "https://localhost:8080/"
        },
        "id": "4Gz8dcBUycsz",
        "outputId": "9d682981-73a7-41e0-b4db-029e94152b48"
      },
      "source": [
        "print_metrics(Y_test,test_pred_text)"
      ],
      "execution_count": 26,
      "outputs": [
        {
          "output_type": "stream",
          "text": [
            "MSE is 439145.671610222\n",
            "RMSE is 662.6806709194271\n",
            "r2 score is -0.1446667094297256\n",
            "MAE is 282.3986995298297\n",
            "MAPE is inf\n"
          ],
          "name": "stdout"
        }
      ]
    },
    {
      "cell_type": "markdown",
      "metadata": {
        "id": "BBvmV4Fuy_uw"
      },
      "source": [
        "**linear** **regression** **ON** **LINKEDIN**"
      ]
    },
    {
      "cell_type": "code",
      "metadata": {
        "id": "q2TNZq2_ycpa"
      },
      "source": [
        "X=news_df['token_text']\n",
        "Y=news_df['LinkedIn']\n",
        "\n",
        "X_train,X_test,Y_train,Y_test=train_test_split(X,Y,test_size=0.2)"
      ],
      "execution_count": 27,
      "outputs": []
    },
    {
      "cell_type": "code",
      "metadata": {
        "colab": {
          "base_uri": "https://localhost:8080/"
        },
        "id": "b2iqNy1zzTM1",
        "outputId": "2d5f63a9-4c49-4528-f2cf-c5e5f0eb370c"
      },
      "source": [
        "model=LinearRegression()\n",
        "pipe_title = Pipeline([('vectorizer', vector),\n",
        "                     ('regressor', model)])\n",
        "pipe_title.fit(X_train,Y_train)"
      ],
      "execution_count": 28,
      "outputs": [
        {
          "output_type": "execute_result",
          "data": {
            "text/plain": [
              "Pipeline(memory=None,\n",
              "         steps=[('vectorizer',\n",
              "                 TfidfVectorizer(analyzer='word', binary=False,\n",
              "                                 decode_error='strict',\n",
              "                                 dtype=<class 'numpy.float64'>,\n",
              "                                 encoding='utf-8', input='content',\n",
              "                                 lowercase=True, max_df=0.8, max_features=None,\n",
              "                                 min_df=8, ngram_range=(1, 1), norm='l2',\n",
              "                                 preprocessor=None, smooth_idf=True,\n",
              "                                 stop_words=None, strip_accents=None,\n",
              "                                 sublinear_tf=False,\n",
              "                                 token_pattern='(?u)\\\\b\\\\w\\\\w+\\\\b',\n",
              "                                 tokenizer=None, use_idf=True,\n",
              "                                 vocabulary=None)),\n",
              "                ('regressor',\n",
              "                 LinearRegression(copy_X=True, fit_intercept=True, n_jobs=None,\n",
              "                                  normalize=False))],\n",
              "         verbose=False)"
            ]
          },
          "metadata": {},
          "execution_count": 28
        }
      ]
    },
    {
      "cell_type": "code",
      "metadata": {
        "id": "emvbgj4EzTI9"
      },
      "source": [
        "test_pred_text=pipe_title.predict(X_test)"
      ],
      "execution_count": 29,
      "outputs": []
    },
    {
      "cell_type": "code",
      "metadata": {
        "colab": {
          "base_uri": "https://localhost:8080/"
        },
        "id": "h0E7CjD9zTHF",
        "outputId": "10fd8442-a096-4100-8051-015a58354426"
      },
      "source": [
        "print_metrics(Y_test,test_pred_text)"
      ],
      "execution_count": 30,
      "outputs": [
        {
          "output_type": "stream",
          "text": [
            "MSE is 32767.32834136068\n",
            "RMSE is 181.01748076183327\n",
            "r2 score is -0.24147463631019672\n",
            "MAE is 51.26459863865234\n",
            "MAPE is inf\n"
          ],
          "name": "stdout"
        }
      ]
    },
    {
      "cell_type": "markdown",
      "metadata": {
        "id": "MrfYvXkv2bQW"
      },
      "source": [
        "**LINEAR** **REGRESSION** **ON** **GOOGLEPLUS**"
      ]
    },
    {
      "cell_type": "code",
      "metadata": {
        "id": "oRXi2F0SzTBq"
      },
      "source": [
        "X=news_df['token_text']\n",
        "Y=news_df['GooglePlus']\n",
        "\n",
        "X_train,X_test,Y_train,Y_test=train_test_split(X,Y,test_size=0.2)"
      ],
      "execution_count": 31,
      "outputs": []
    },
    {
      "cell_type": "code",
      "metadata": {
        "colab": {
          "base_uri": "https://localhost:8080/"
        },
        "id": "Y-4VtZ3P3A2D",
        "outputId": "e401d5d3-0431-4a84-8558-b3a32fba3d8a"
      },
      "source": [
        "model=LinearRegression()\n",
        "pipe_title = Pipeline([('vectorizer', vector),\n",
        "                     ('regressor', model)])\n",
        "pipe_title.fit(X_train,Y_train)"
      ],
      "execution_count": 32,
      "outputs": [
        {
          "output_type": "execute_result",
          "data": {
            "text/plain": [
              "Pipeline(memory=None,\n",
              "         steps=[('vectorizer',\n",
              "                 TfidfVectorizer(analyzer='word', binary=False,\n",
              "                                 decode_error='strict',\n",
              "                                 dtype=<class 'numpy.float64'>,\n",
              "                                 encoding='utf-8', input='content',\n",
              "                                 lowercase=True, max_df=0.8, max_features=None,\n",
              "                                 min_df=8, ngram_range=(1, 1), norm='l2',\n",
              "                                 preprocessor=None, smooth_idf=True,\n",
              "                                 stop_words=None, strip_accents=None,\n",
              "                                 sublinear_tf=False,\n",
              "                                 token_pattern='(?u)\\\\b\\\\w\\\\w+\\\\b',\n",
              "                                 tokenizer=None, use_idf=True,\n",
              "                                 vocabulary=None)),\n",
              "                ('regressor',\n",
              "                 LinearRegression(copy_X=True, fit_intercept=True, n_jobs=None,\n",
              "                                  normalize=False))],\n",
              "         verbose=False)"
            ]
          },
          "metadata": {},
          "execution_count": 32
        }
      ]
    },
    {
      "cell_type": "code",
      "metadata": {
        "id": "ELafr26Y3Ay8"
      },
      "source": [
        "test_pred_text=pipe_title.predict(X_test)"
      ],
      "execution_count": 33,
      "outputs": []
    },
    {
      "cell_type": "code",
      "metadata": {
        "colab": {
          "base_uri": "https://localhost:8080/"
        },
        "id": "i2Yq2iIU3AwR",
        "outputId": "d2d752d3-6729-4792-fba9-48bc385e8b92"
      },
      "source": [
        "print_metrics(Y_test,test_pred_text)"
      ],
      "execution_count": 34,
      "outputs": [
        {
          "output_type": "stream",
          "text": [
            "MSE is 398.00389439948884\n",
            "RMSE is 19.950034947325\n",
            "r2 score is -0.17870134174252472\n",
            "MAE is 8.814032253624687\n",
            "MAPE is inf\n"
          ],
          "name": "stdout"
        }
      ]
    },
    {
      "cell_type": "markdown",
      "metadata": {
        "id": "SkPEqNsn3rMy"
      },
      "source": [
        "**BY** **USING** **SPACY** **LIBRARY**"
      ]
    },
    {
      "cell_type": "code",
      "metadata": {
        "colab": {
          "base_uri": "https://localhost:8080/"
        },
        "id": "UeLa-0M73orB",
        "outputId": "006256b8-a78f-4074-ec46-c8ce38804f3a"
      },
      "source": [
        "nlp=spacy.load(\"en_core_web_sm\")\n",
        "nlp"
      ],
      "execution_count": 35,
      "outputs": [
        {
          "output_type": "execute_result",
          "data": {
            "text/plain": [
              "<spacy.lang.en.English at 0x7f03e97861d0>"
            ]
          },
          "metadata": {},
          "execution_count": 35
        }
      ]
    },
    {
      "cell_type": "code",
      "metadata": {
        "colab": {
          "base_uri": "https://localhost:8080/"
        },
        "id": "_zlnoGtu3Auc",
        "outputId": "2092211d-9669-4479-e75e-a42ffc6208bb"
      },
      "source": [
        "text=\"Africa Haywood, add adding investment director business-unit head for fixed income at Gam, discusses the China beige book and the state of the economy.\"\n",
        "mytokens_nlp = nlp(text)\n",
        "entity=[str(i) for i in mytokens_nlp.ents ]\n",
        "mytokens=[word for word in mytokens_nlp if word.text not in entity ] \n",
        "mytokens = [ word.lemma_.lower().strip() if word.lemma_ != \"-PRON-\"  else word.lower_ for word in mytokens   ]\n",
        "mytokens = [ word for word in mytokens if word not in STOP_WORDS and word not in punctuation and len(word)>3]\n",
        "\n",
        "print(mytokens)\n",
        "print(entity)"
      ],
      "execution_count": 36,
      "outputs": [
        {
          "output_type": "stream",
          "text": [
            "['africa', 'haywood', 'investment', 'director', 'business', 'unit', 'head', 'income', 'discuss', 'beige', 'book', 'state', 'economy']\n",
            "['Africa Haywood', 'Gam', 'China']\n"
          ],
          "name": "stdout"
        }
      ]
    },
    {
      "cell_type": "code",
      "metadata": {
        "id": "vpWjN86a493v"
      },
      "source": [
        "def spacy_tokenizer(sentence):\n",
        "   mytokens_nlp = nlp(sentence)\n",
        "   entity=[str(i) for i in mytokens_nlp.ents ]\n",
        "   mytokens=[word for word in mytokens_nlp if word.text not in entity ] \n",
        "   mytokens = [ word.lemma_.lower().strip() if word.lemma_ != \"-PRON-\"  else word.lower_ for word in mytokens  ]\n",
        "   mytokens = [ word for word in mytokens if word not in STOP_WORDS and word not in punctuation and len(word)>3]\n",
        "   return ' '.join(mytokens)"
      ],
      "execution_count": 37,
      "outputs": []
    },
    {
      "cell_type": "code",
      "metadata": {
        "id": "xmgCtG4A490R"
      },
      "source": [
        "news_df['Spacy_token']=news_df['Text'].apply(spacy_tokenizer)"
      ],
      "execution_count": 38,
      "outputs": []
    },
    {
      "cell_type": "code",
      "metadata": {
        "colab": {
          "base_uri": "https://localhost:8080/",
          "height": 640
        },
        "id": "uzXTUX8Y49xv",
        "outputId": "0d900275-5f87-4a7f-f3bc-9efdd3580d08"
      },
      "source": [
        "news_df.head()"
      ],
      "execution_count": 39,
      "outputs": [
        {
          "output_type": "execute_result",
          "data": {
            "text/html": [
              "<div>\n",
              "<style scoped>\n",
              "    .dataframe tbody tr th:only-of-type {\n",
              "        vertical-align: middle;\n",
              "    }\n",
              "\n",
              "    .dataframe tbody tr th {\n",
              "        vertical-align: top;\n",
              "    }\n",
              "\n",
              "    .dataframe thead th {\n",
              "        text-align: right;\n",
              "    }\n",
              "</style>\n",
              "<table border=\"1\" class=\"dataframe\">\n",
              "  <thead>\n",
              "    <tr style=\"text-align: right;\">\n",
              "      <th></th>\n",
              "      <th>IDLink</th>\n",
              "      <th>Title</th>\n",
              "      <th>Headline</th>\n",
              "      <th>Source</th>\n",
              "      <th>Topic</th>\n",
              "      <th>PublishDate</th>\n",
              "      <th>SentimentTitle</th>\n",
              "      <th>SentimentHeadline</th>\n",
              "      <th>Facebook</th>\n",
              "      <th>GooglePlus</th>\n",
              "      <th>LinkedIn</th>\n",
              "      <th>Text</th>\n",
              "      <th>token_text</th>\n",
              "      <th>Spacy_token</th>\n",
              "    </tr>\n",
              "  </thead>\n",
              "  <tbody>\n",
              "    <tr>\n",
              "      <th>0</th>\n",
              "      <td>99248.0</td>\n",
              "      <td>Obama Lays Wreath at Arlington National Cemetery</td>\n",
              "      <td>Obama Lays Wreath at Arlington National Cemete...</td>\n",
              "      <td>USA TODAY</td>\n",
              "      <td>obama</td>\n",
              "      <td>2002-04-02 00:00:00</td>\n",
              "      <td>0.000000</td>\n",
              "      <td>-0.053300</td>\n",
              "      <td>-1</td>\n",
              "      <td>-1</td>\n",
              "      <td>-1</td>\n",
              "      <td>Obama Lays Wreath at Arlington National Cemete...</td>\n",
              "      <td>Obama Lays Wreath Arlington National CemeteryO...</td>\n",
              "      <td>obama lays wreath arlington national cemeteryo...</td>\n",
              "    </tr>\n",
              "    <tr>\n",
              "      <th>1</th>\n",
              "      <td>10423.0</td>\n",
              "      <td>A Look at the Health of the Chinese Economy</td>\n",
              "      <td>Tim Haywood, investment director business-unit...</td>\n",
              "      <td>Bloomberg</td>\n",
              "      <td>economy</td>\n",
              "      <td>2008-09-20 00:00:00</td>\n",
              "      <td>0.208333</td>\n",
              "      <td>-0.156386</td>\n",
              "      <td>-1</td>\n",
              "      <td>-1</td>\n",
              "      <td>-1</td>\n",
              "      <td>A Look at the Health of the Chinese EconomyTim...</td>\n",
              "      <td>Look Health Chinese EconomyTim Haywood investm...</td>\n",
              "      <td>look health chinese economytim haywood investm...</td>\n",
              "    </tr>\n",
              "    <tr>\n",
              "      <th>2</th>\n",
              "      <td>18828.0</td>\n",
              "      <td>Nouriel Roubini: Global Economy Not Back to 2008</td>\n",
              "      <td>Nouriel Roubini, NYU professor and chairman at...</td>\n",
              "      <td>Bloomberg</td>\n",
              "      <td>economy</td>\n",
              "      <td>2012-01-28 00:00:00</td>\n",
              "      <td>-0.425210</td>\n",
              "      <td>0.139754</td>\n",
              "      <td>-1</td>\n",
              "      <td>-1</td>\n",
              "      <td>-1</td>\n",
              "      <td>Nouriel Roubini: Global Economy Not Back to 20...</td>\n",
              "      <td>Nouriel Roubini Global Economy Back 2008Nourie...</td>\n",
              "      <td>nouriel global economy professor chairman glob...</td>\n",
              "    </tr>\n",
              "    <tr>\n",
              "      <th>3</th>\n",
              "      <td>27788.0</td>\n",
              "      <td>Finland GDP Expands In Q4</td>\n",
              "      <td>Finland's economy expanded marginally in the t...</td>\n",
              "      <td>RTT News</td>\n",
              "      <td>economy</td>\n",
              "      <td>2015-03-01 00:06:00</td>\n",
              "      <td>0.000000</td>\n",
              "      <td>0.026064</td>\n",
              "      <td>-1</td>\n",
              "      <td>-1</td>\n",
              "      <td>-1</td>\n",
              "      <td>Finland GDP Expands In Q4Finland's economy exp...</td>\n",
              "      <td>Finland GDP Expands Q4Finlands economy expande...</td>\n",
              "      <td>expand q4finland economy expand marginally mon...</td>\n",
              "    </tr>\n",
              "    <tr>\n",
              "      <th>4</th>\n",
              "      <td>27789.0</td>\n",
              "      <td>Tourism, govt spending buoys Thai economy in J...</td>\n",
              "      <td>Tourism and public spending continued to boost...</td>\n",
              "      <td>The Nation - Thailand&amp;#39;s English news</td>\n",
              "      <td>economy</td>\n",
              "      <td>2015-03-01 00:11:00</td>\n",
              "      <td>0.000000</td>\n",
              "      <td>0.141084</td>\n",
              "      <td>-1</td>\n",
              "      <td>-1</td>\n",
              "      <td>-1</td>\n",
              "      <td>Tourism, govt spending buoys Thai economy in J...</td>\n",
              "      <td>Tourism govt spending buoys Thai economy Janua...</td>\n",
              "      <td>tourism govt spending buoy economy public spen...</td>\n",
              "    </tr>\n",
              "  </tbody>\n",
              "</table>\n",
              "</div>"
            ],
            "text/plain": [
              "    IDLink  ...                                        Spacy_token\n",
              "0  99248.0  ...  obama lays wreath arlington national cemeteryo...\n",
              "1  10423.0  ...  look health chinese economytim haywood investm...\n",
              "2  18828.0  ...  nouriel global economy professor chairman glob...\n",
              "3  27788.0  ...  expand q4finland economy expand marginally mon...\n",
              "4  27789.0  ...  tourism govt spending buoy economy public spen...\n",
              "\n",
              "[5 rows x 14 columns]"
            ]
          },
          "metadata": {},
          "execution_count": 39
        }
      ]
    },
    {
      "cell_type": "markdown",
      "metadata": {
        "id": "ZQVZaBSR5iQQ"
      },
      "source": [
        "**RANDOM** **FOREST** **ON** **FACEBOOK** "
      ]
    },
    {
      "cell_type": "code",
      "metadata": {
        "id": "A0yJJPhQ49vw"
      },
      "source": [
        "X=news_df['Spacy_token']\n",
        "Y=news_df['Facebook']\n",
        "\n",
        "X_train,X_test,Y_train,Y_test=train_test_split(X,Y,test_size=0.2)"
      ],
      "execution_count": 40,
      "outputs": []
    },
    {
      "cell_type": "code",
      "metadata": {
        "id": "ZwZ3_IUZ6BQc"
      },
      "source": [
        "vector=TfidfVectorizer(max_df = 0.9,min_df = 9)"
      ],
      "execution_count": 41,
      "outputs": []
    },
    {
      "cell_type": "code",
      "metadata": {
        "id": "t3LzIFh2MoS3"
      },
      "source": [
        "model=RandomForestRegressor(n_estimators=50,max_depth=None,random_state=0)\n",
        "pipe_title = Pipeline([('vectorizer', vector),\n",
        "                     ('regressor', model)])\n",
        "pipe_title.fit(X_train,Y_train)"
      ],
      "execution_count": null,
      "outputs": []
    },
    {
      "cell_type": "code",
      "metadata": {
        "id": "2u6uODLj3Ass"
      },
      "source": [
        "test_pred_text=pipe_title.predict(X_test)"
      ],
      "execution_count": null,
      "outputs": []
    },
    {
      "cell_type": "code",
      "metadata": {
        "id": "fh_IhOFc3Apl"
      },
      "source": [
        "print_metrics(Y_test,test_pred_text)"
      ],
      "execution_count": null,
      "outputs": []
    },
    {
      "cell_type": "markdown",
      "metadata": {
        "id": "bc9EtLN36qpP"
      },
      "source": [
        "**USING** **PCA**"
      ]
    },
    {
      "cell_type": "code",
      "metadata": {
        "id": "rc7YX2C6ycm2"
      },
      "source": [
        "Google_pop=news_df[news_df['GooglePlus']!=-1]"
      ],
      "execution_count": 43,
      "outputs": []
    },
    {
      "cell_type": "code",
      "metadata": {
        "id": "7he_GVfQyckv"
      },
      "source": [
        "data=Google_pop['Spacy_token'].iloc[:5000]"
      ],
      "execution_count": 44,
      "outputs": []
    },
    {
      "cell_type": "code",
      "metadata": {
        "id": "FPZTjDuC7bdJ"
      },
      "source": [
        "v = TfidfVectorizer(max_df=0.1,min_df=10)\n",
        "x = v.fit_transform(data)"
      ],
      "execution_count": 45,
      "outputs": []
    },
    {
      "cell_type": "code",
      "metadata": {
        "id": "gil0aTbY7jBM"
      },
      "source": [
        "df1 = pd.DataFrame(x.toarray(), columns=v.get_feature_names())"
      ],
      "execution_count": 46,
      "outputs": []
    },
    {
      "cell_type": "code",
      "metadata": {
        "colab": {
          "base_uri": "https://localhost:8080/"
        },
        "id": "_-TQ7nww7bSz",
        "outputId": "0bfa7dbe-9ef9-4697-fa94-0375271230b2"
      },
      "source": [
        "df1.shape"
      ],
      "execution_count": 47,
      "outputs": [
        {
          "output_type": "execute_result",
          "data": {
            "text/plain": [
              "(5000, 1325)"
            ]
          },
          "metadata": {},
          "execution_count": 47
        }
      ]
    },
    {
      "cell_type": "code",
      "metadata": {
        "id": "ChYZfznD7bP2"
      },
      "source": [
        "df1 = df1.loc[:, ~df1.columns.str[0].str.isnumeric()]"
      ],
      "execution_count": 48,
      "outputs": []
    },
    {
      "cell_type": "code",
      "metadata": {
        "colab": {
          "base_uri": "https://localhost:8080/",
          "height": 252
        },
        "id": "kHTimPI97bNk",
        "outputId": "23a0afe2-6df2-49d5-8cb1-c6ed2581733d"
      },
      "source": [
        "df1.head()"
      ],
      "execution_count": 49,
      "outputs": [
        {
          "output_type": "execute_result",
          "data": {
            "text/html": [
              "<div>\n",
              "<style scoped>\n",
              "    .dataframe tbody tr th:only-of-type {\n",
              "        vertical-align: middle;\n",
              "    }\n",
              "\n",
              "    .dataframe tbody tr th {\n",
              "        vertical-align: top;\n",
              "    }\n",
              "\n",
              "    .dataframe thead th {\n",
              "        text-align: right;\n",
              "    }\n",
              "</style>\n",
              "<table border=\"1\" class=\"dataframe\">\n",
              "  <thead>\n",
              "    <tr style=\"text-align: right;\">\n",
              "      <th></th>\n",
              "      <th>ability</th>\n",
              "      <th>able</th>\n",
              "      <th>abroad</th>\n",
              "      <th>academic</th>\n",
              "      <th>accelerate</th>\n",
              "      <th>accept</th>\n",
              "      <th>access</th>\n",
              "      <th>accord</th>\n",
              "      <th>account</th>\n",
              "      <th>accuse</th>\n",
              "      <th>achieve</th>\n",
              "      <th>acknowledge</th>\n",
              "      <th>acquire</th>\n",
              "      <th>acquisition</th>\n",
              "      <th>action</th>\n",
              "      <th>activist</th>\n",
              "      <th>activity</th>\n",
              "      <th>actually</th>\n",
              "      <th>addition</th>\n",
              "      <th>additional</th>\n",
              "      <th>address</th>\n",
              "      <th>administration</th>\n",
              "      <th>admit</th>\n",
              "      <th>adopt</th>\n",
              "      <th>advanced</th>\n",
              "      <th>adviser</th>\n",
              "      <th>affair</th>\n",
              "      <th>affect</th>\n",
              "      <th>affordable</th>\n",
              "      <th>africa</th>\n",
              "      <th>agency</th>\n",
              "      <th>agenda</th>\n",
              "      <th>agree</th>\n",
              "      <th>agreement</th>\n",
              "      <th>ahead</th>\n",
              "      <th>alliance</th>\n",
              "      <th>allow</th>\n",
              "      <th>ally</th>\n",
              "      <th>alternative</th>\n",
              "      <th>america</th>\n",
              "      <th>...</th>\n",
              "      <th>washington</th>\n",
              "      <th>watch</th>\n",
              "      <th>wave</th>\n",
              "      <th>we</th>\n",
              "      <th>weak</th>\n",
              "      <th>weaken</th>\n",
              "      <th>weather</th>\n",
              "      <th>website</th>\n",
              "      <th>week</th>\n",
              "      <th>weekend</th>\n",
              "      <th>weigh</th>\n",
              "      <th>welcome</th>\n",
              "      <th>west</th>\n",
              "      <th>western</th>\n",
              "      <th>white</th>\n",
              "      <th>wide</th>\n",
              "      <th>widely</th>\n",
              "      <th>wind</th>\n",
              "      <th>window</th>\n",
              "      <th>windows</th>\n",
              "      <th>winner</th>\n",
              "      <th>woman</th>\n",
              "      <th>word</th>\n",
              "      <th>work</th>\n",
              "      <th>worker</th>\n",
              "      <th>workforce</th>\n",
              "      <th>world</th>\n",
              "      <th>worldwide</th>\n",
              "      <th>worried</th>\n",
              "      <th>worry</th>\n",
              "      <th>worth</th>\n",
              "      <th>write</th>\n",
              "      <th>wrong</th>\n",
              "      <th>xbox</th>\n",
              "      <th>year</th>\n",
              "      <th>york</th>\n",
              "      <th>young</th>\n",
              "      <th>youth</th>\n",
              "      <th>zealand</th>\n",
              "      <th>zone</th>\n",
              "    </tr>\n",
              "  </thead>\n",
              "  <tbody>\n",
              "    <tr>\n",
              "      <th>0</th>\n",
              "      <td>0.0</td>\n",
              "      <td>0.0</td>\n",
              "      <td>0.0</td>\n",
              "      <td>0.0</td>\n",
              "      <td>0.0</td>\n",
              "      <td>0.0</td>\n",
              "      <td>0.0</td>\n",
              "      <td>0.000000</td>\n",
              "      <td>0.000000</td>\n",
              "      <td>0.0</td>\n",
              "      <td>0.0</td>\n",
              "      <td>0.0</td>\n",
              "      <td>0.0</td>\n",
              "      <td>0.0</td>\n",
              "      <td>0.0</td>\n",
              "      <td>0.0</td>\n",
              "      <td>0.000000</td>\n",
              "      <td>0.0</td>\n",
              "      <td>0.0</td>\n",
              "      <td>0.0</td>\n",
              "      <td>0.0</td>\n",
              "      <td>0.0</td>\n",
              "      <td>0.0</td>\n",
              "      <td>0.0</td>\n",
              "      <td>0.0</td>\n",
              "      <td>0.0</td>\n",
              "      <td>0.0</td>\n",
              "      <td>0.0</td>\n",
              "      <td>0.0</td>\n",
              "      <td>0.0</td>\n",
              "      <td>0.0</td>\n",
              "      <td>0.0</td>\n",
              "      <td>0.0</td>\n",
              "      <td>0.0</td>\n",
              "      <td>0.152819</td>\n",
              "      <td>0.0</td>\n",
              "      <td>0.0</td>\n",
              "      <td>0.0</td>\n",
              "      <td>0.0</td>\n",
              "      <td>0.0</td>\n",
              "      <td>...</td>\n",
              "      <td>0.0</td>\n",
              "      <td>0.0</td>\n",
              "      <td>0.0</td>\n",
              "      <td>0.0</td>\n",
              "      <td>0.000000</td>\n",
              "      <td>0.0</td>\n",
              "      <td>0.0</td>\n",
              "      <td>0.0</td>\n",
              "      <td>0.0</td>\n",
              "      <td>0.0</td>\n",
              "      <td>0.0</td>\n",
              "      <td>0.0</td>\n",
              "      <td>0.0</td>\n",
              "      <td>0.0</td>\n",
              "      <td>0.0</td>\n",
              "      <td>0.0</td>\n",
              "      <td>0.0</td>\n",
              "      <td>0.0</td>\n",
              "      <td>0.0</td>\n",
              "      <td>0.0</td>\n",
              "      <td>0.0</td>\n",
              "      <td>0.0</td>\n",
              "      <td>0.0</td>\n",
              "      <td>0.0</td>\n",
              "      <td>0.0</td>\n",
              "      <td>0.0</td>\n",
              "      <td>0.000000</td>\n",
              "      <td>0.0</td>\n",
              "      <td>0.0</td>\n",
              "      <td>0.0</td>\n",
              "      <td>0.0</td>\n",
              "      <td>0.0</td>\n",
              "      <td>0.0</td>\n",
              "      <td>0.0</td>\n",
              "      <td>0.000000</td>\n",
              "      <td>0.0</td>\n",
              "      <td>0.0</td>\n",
              "      <td>0.0</td>\n",
              "      <td>0.0</td>\n",
              "      <td>0.0</td>\n",
              "    </tr>\n",
              "    <tr>\n",
              "      <th>1</th>\n",
              "      <td>0.0</td>\n",
              "      <td>0.0</td>\n",
              "      <td>0.0</td>\n",
              "      <td>0.0</td>\n",
              "      <td>0.0</td>\n",
              "      <td>0.0</td>\n",
              "      <td>0.0</td>\n",
              "      <td>0.000000</td>\n",
              "      <td>0.232935</td>\n",
              "      <td>0.0</td>\n",
              "      <td>0.0</td>\n",
              "      <td>0.0</td>\n",
              "      <td>0.0</td>\n",
              "      <td>0.0</td>\n",
              "      <td>0.0</td>\n",
              "      <td>0.0</td>\n",
              "      <td>0.202326</td>\n",
              "      <td>0.0</td>\n",
              "      <td>0.0</td>\n",
              "      <td>0.0</td>\n",
              "      <td>0.0</td>\n",
              "      <td>0.0</td>\n",
              "      <td>0.0</td>\n",
              "      <td>0.0</td>\n",
              "      <td>0.0</td>\n",
              "      <td>0.0</td>\n",
              "      <td>0.0</td>\n",
              "      <td>0.0</td>\n",
              "      <td>0.0</td>\n",
              "      <td>0.0</td>\n",
              "      <td>0.0</td>\n",
              "      <td>0.0</td>\n",
              "      <td>0.0</td>\n",
              "      <td>0.0</td>\n",
              "      <td>0.000000</td>\n",
              "      <td>0.0</td>\n",
              "      <td>0.0</td>\n",
              "      <td>0.0</td>\n",
              "      <td>0.0</td>\n",
              "      <td>0.0</td>\n",
              "      <td>...</td>\n",
              "      <td>0.0</td>\n",
              "      <td>0.0</td>\n",
              "      <td>0.0</td>\n",
              "      <td>0.0</td>\n",
              "      <td>0.180946</td>\n",
              "      <td>0.0</td>\n",
              "      <td>0.0</td>\n",
              "      <td>0.0</td>\n",
              "      <td>0.0</td>\n",
              "      <td>0.0</td>\n",
              "      <td>0.0</td>\n",
              "      <td>0.0</td>\n",
              "      <td>0.0</td>\n",
              "      <td>0.0</td>\n",
              "      <td>0.0</td>\n",
              "      <td>0.0</td>\n",
              "      <td>0.0</td>\n",
              "      <td>0.0</td>\n",
              "      <td>0.0</td>\n",
              "      <td>0.0</td>\n",
              "      <td>0.0</td>\n",
              "      <td>0.0</td>\n",
              "      <td>0.0</td>\n",
              "      <td>0.0</td>\n",
              "      <td>0.0</td>\n",
              "      <td>0.0</td>\n",
              "      <td>0.000000</td>\n",
              "      <td>0.0</td>\n",
              "      <td>0.0</td>\n",
              "      <td>0.0</td>\n",
              "      <td>0.0</td>\n",
              "      <td>0.0</td>\n",
              "      <td>0.0</td>\n",
              "      <td>0.0</td>\n",
              "      <td>0.000000</td>\n",
              "      <td>0.0</td>\n",
              "      <td>0.0</td>\n",
              "      <td>0.0</td>\n",
              "      <td>0.0</td>\n",
              "      <td>0.0</td>\n",
              "    </tr>\n",
              "    <tr>\n",
              "      <th>2</th>\n",
              "      <td>0.0</td>\n",
              "      <td>0.0</td>\n",
              "      <td>0.0</td>\n",
              "      <td>0.0</td>\n",
              "      <td>0.0</td>\n",
              "      <td>0.0</td>\n",
              "      <td>0.0</td>\n",
              "      <td>0.000000</td>\n",
              "      <td>0.000000</td>\n",
              "      <td>0.0</td>\n",
              "      <td>0.0</td>\n",
              "      <td>0.0</td>\n",
              "      <td>0.0</td>\n",
              "      <td>0.0</td>\n",
              "      <td>0.0</td>\n",
              "      <td>0.0</td>\n",
              "      <td>0.000000</td>\n",
              "      <td>0.0</td>\n",
              "      <td>0.0</td>\n",
              "      <td>0.0</td>\n",
              "      <td>0.0</td>\n",
              "      <td>0.0</td>\n",
              "      <td>0.0</td>\n",
              "      <td>0.0</td>\n",
              "      <td>0.0</td>\n",
              "      <td>0.0</td>\n",
              "      <td>0.0</td>\n",
              "      <td>0.0</td>\n",
              "      <td>0.0</td>\n",
              "      <td>0.0</td>\n",
              "      <td>0.0</td>\n",
              "      <td>0.0</td>\n",
              "      <td>0.0</td>\n",
              "      <td>0.0</td>\n",
              "      <td>0.000000</td>\n",
              "      <td>0.0</td>\n",
              "      <td>0.0</td>\n",
              "      <td>0.0</td>\n",
              "      <td>0.0</td>\n",
              "      <td>0.0</td>\n",
              "      <td>...</td>\n",
              "      <td>0.0</td>\n",
              "      <td>0.0</td>\n",
              "      <td>0.0</td>\n",
              "      <td>0.0</td>\n",
              "      <td>0.000000</td>\n",
              "      <td>0.0</td>\n",
              "      <td>0.0</td>\n",
              "      <td>0.0</td>\n",
              "      <td>0.0</td>\n",
              "      <td>0.0</td>\n",
              "      <td>0.0</td>\n",
              "      <td>0.0</td>\n",
              "      <td>0.0</td>\n",
              "      <td>0.0</td>\n",
              "      <td>0.0</td>\n",
              "      <td>0.0</td>\n",
              "      <td>0.0</td>\n",
              "      <td>0.0</td>\n",
              "      <td>0.0</td>\n",
              "      <td>0.0</td>\n",
              "      <td>0.0</td>\n",
              "      <td>0.0</td>\n",
              "      <td>0.0</td>\n",
              "      <td>0.0</td>\n",
              "      <td>0.0</td>\n",
              "      <td>0.0</td>\n",
              "      <td>0.000000</td>\n",
              "      <td>0.0</td>\n",
              "      <td>0.0</td>\n",
              "      <td>0.0</td>\n",
              "      <td>0.0</td>\n",
              "      <td>0.0</td>\n",
              "      <td>0.0</td>\n",
              "      <td>0.0</td>\n",
              "      <td>0.000000</td>\n",
              "      <td>0.0</td>\n",
              "      <td>0.0</td>\n",
              "      <td>0.0</td>\n",
              "      <td>0.0</td>\n",
              "      <td>0.0</td>\n",
              "    </tr>\n",
              "    <tr>\n",
              "      <th>3</th>\n",
              "      <td>0.0</td>\n",
              "      <td>0.0</td>\n",
              "      <td>0.0</td>\n",
              "      <td>0.0</td>\n",
              "      <td>0.0</td>\n",
              "      <td>0.0</td>\n",
              "      <td>0.0</td>\n",
              "      <td>0.000000</td>\n",
              "      <td>0.000000</td>\n",
              "      <td>0.0</td>\n",
              "      <td>0.0</td>\n",
              "      <td>0.0</td>\n",
              "      <td>0.0</td>\n",
              "      <td>0.0</td>\n",
              "      <td>0.0</td>\n",
              "      <td>0.0</td>\n",
              "      <td>0.000000</td>\n",
              "      <td>0.0</td>\n",
              "      <td>0.0</td>\n",
              "      <td>0.0</td>\n",
              "      <td>0.0</td>\n",
              "      <td>0.0</td>\n",
              "      <td>0.0</td>\n",
              "      <td>0.0</td>\n",
              "      <td>0.0</td>\n",
              "      <td>0.0</td>\n",
              "      <td>0.0</td>\n",
              "      <td>0.0</td>\n",
              "      <td>0.0</td>\n",
              "      <td>0.0</td>\n",
              "      <td>0.0</td>\n",
              "      <td>0.0</td>\n",
              "      <td>0.0</td>\n",
              "      <td>0.0</td>\n",
              "      <td>0.000000</td>\n",
              "      <td>0.0</td>\n",
              "      <td>0.0</td>\n",
              "      <td>0.0</td>\n",
              "      <td>0.0</td>\n",
              "      <td>0.0</td>\n",
              "      <td>...</td>\n",
              "      <td>0.0</td>\n",
              "      <td>0.0</td>\n",
              "      <td>0.0</td>\n",
              "      <td>0.0</td>\n",
              "      <td>0.000000</td>\n",
              "      <td>0.0</td>\n",
              "      <td>0.0</td>\n",
              "      <td>0.0</td>\n",
              "      <td>0.0</td>\n",
              "      <td>0.0</td>\n",
              "      <td>0.0</td>\n",
              "      <td>0.0</td>\n",
              "      <td>0.0</td>\n",
              "      <td>0.0</td>\n",
              "      <td>0.0</td>\n",
              "      <td>0.0</td>\n",
              "      <td>0.0</td>\n",
              "      <td>0.0</td>\n",
              "      <td>0.0</td>\n",
              "      <td>0.0</td>\n",
              "      <td>0.0</td>\n",
              "      <td>0.0</td>\n",
              "      <td>0.0</td>\n",
              "      <td>0.0</td>\n",
              "      <td>0.0</td>\n",
              "      <td>0.0</td>\n",
              "      <td>0.000000</td>\n",
              "      <td>0.0</td>\n",
              "      <td>0.0</td>\n",
              "      <td>0.0</td>\n",
              "      <td>0.0</td>\n",
              "      <td>0.0</td>\n",
              "      <td>0.0</td>\n",
              "      <td>0.0</td>\n",
              "      <td>0.090074</td>\n",
              "      <td>0.0</td>\n",
              "      <td>0.0</td>\n",
              "      <td>0.0</td>\n",
              "      <td>0.0</td>\n",
              "      <td>0.0</td>\n",
              "    </tr>\n",
              "    <tr>\n",
              "      <th>4</th>\n",
              "      <td>0.0</td>\n",
              "      <td>0.0</td>\n",
              "      <td>0.0</td>\n",
              "      <td>0.0</td>\n",
              "      <td>0.0</td>\n",
              "      <td>0.0</td>\n",
              "      <td>0.0</td>\n",
              "      <td>0.154303</td>\n",
              "      <td>0.000000</td>\n",
              "      <td>0.0</td>\n",
              "      <td>0.0</td>\n",
              "      <td>0.0</td>\n",
              "      <td>0.0</td>\n",
              "      <td>0.0</td>\n",
              "      <td>0.0</td>\n",
              "      <td>0.0</td>\n",
              "      <td>0.000000</td>\n",
              "      <td>0.0</td>\n",
              "      <td>0.0</td>\n",
              "      <td>0.0</td>\n",
              "      <td>0.0</td>\n",
              "      <td>0.0</td>\n",
              "      <td>0.0</td>\n",
              "      <td>0.0</td>\n",
              "      <td>0.0</td>\n",
              "      <td>0.0</td>\n",
              "      <td>0.0</td>\n",
              "      <td>0.0</td>\n",
              "      <td>0.0</td>\n",
              "      <td>0.0</td>\n",
              "      <td>0.0</td>\n",
              "      <td>0.0</td>\n",
              "      <td>0.0</td>\n",
              "      <td>0.0</td>\n",
              "      <td>0.000000</td>\n",
              "      <td>0.0</td>\n",
              "      <td>0.0</td>\n",
              "      <td>0.0</td>\n",
              "      <td>0.0</td>\n",
              "      <td>0.0</td>\n",
              "      <td>...</td>\n",
              "      <td>0.0</td>\n",
              "      <td>0.0</td>\n",
              "      <td>0.0</td>\n",
              "      <td>0.0</td>\n",
              "      <td>0.000000</td>\n",
              "      <td>0.0</td>\n",
              "      <td>0.0</td>\n",
              "      <td>0.0</td>\n",
              "      <td>0.0</td>\n",
              "      <td>0.0</td>\n",
              "      <td>0.0</td>\n",
              "      <td>0.0</td>\n",
              "      <td>0.0</td>\n",
              "      <td>0.0</td>\n",
              "      <td>0.0</td>\n",
              "      <td>0.0</td>\n",
              "      <td>0.0</td>\n",
              "      <td>0.0</td>\n",
              "      <td>0.0</td>\n",
              "      <td>0.0</td>\n",
              "      <td>0.0</td>\n",
              "      <td>0.0</td>\n",
              "      <td>0.0</td>\n",
              "      <td>0.0</td>\n",
              "      <td>0.0</td>\n",
              "      <td>0.0</td>\n",
              "      <td>0.134975</td>\n",
              "      <td>0.0</td>\n",
              "      <td>0.0</td>\n",
              "      <td>0.0</td>\n",
              "      <td>0.0</td>\n",
              "      <td>0.0</td>\n",
              "      <td>0.0</td>\n",
              "      <td>0.0</td>\n",
              "      <td>0.000000</td>\n",
              "      <td>0.0</td>\n",
              "      <td>0.0</td>\n",
              "      <td>0.0</td>\n",
              "      <td>0.0</td>\n",
              "      <td>0.0</td>\n",
              "    </tr>\n",
              "  </tbody>\n",
              "</table>\n",
              "<p>5 rows × 1316 columns</p>\n",
              "</div>"
            ],
            "text/plain": [
              "   ability  able  abroad  academic  ...  young  youth  zealand  zone\n",
              "0      0.0   0.0     0.0       0.0  ...    0.0    0.0      0.0   0.0\n",
              "1      0.0   0.0     0.0       0.0  ...    0.0    0.0      0.0   0.0\n",
              "2      0.0   0.0     0.0       0.0  ...    0.0    0.0      0.0   0.0\n",
              "3      0.0   0.0     0.0       0.0  ...    0.0    0.0      0.0   0.0\n",
              "4      0.0   0.0     0.0       0.0  ...    0.0    0.0      0.0   0.0\n",
              "\n",
              "[5 rows x 1316 columns]"
            ]
          },
          "metadata": {},
          "execution_count": 49
        }
      ]
    },
    {
      "cell_type": "code",
      "metadata": {
        "id": "-_oV-95H7bLU"
      },
      "source": [
        "df1['Sentiment_headline']=news_df['SentimentHeadline'].iloc[:5000]"
      ],
      "execution_count": 50,
      "outputs": []
    },
    {
      "cell_type": "code",
      "metadata": {
        "id": "AvOMQObE7bJw"
      },
      "source": [
        "df1['Sentiment_title']=news_df['SentimentTitle'].iloc[:5000]"
      ],
      "execution_count": 51,
      "outputs": []
    },
    {
      "cell_type": "code",
      "metadata": {
        "id": "OTlTkrjy7bHf"
      },
      "source": [
        "df1=df1.fillna(df1.median())"
      ],
      "execution_count": 52,
      "outputs": []
    },
    {
      "cell_type": "code",
      "metadata": {
        "id": "BXC6_XLc7bFR"
      },
      "source": [
        "Y=news_df['GooglePlus'].iloc[0:5000]"
      ],
      "execution_count": 53,
      "outputs": []
    },
    {
      "cell_type": "code",
      "metadata": {
        "id": "KsS8KWdM7a3_"
      },
      "source": [
        "X_train,X_test,Y_train,Y_test=train_test_split(df1,Y,test_size=0.2)"
      ],
      "execution_count": 54,
      "outputs": []
    },
    {
      "cell_type": "code",
      "metadata": {
        "id": "k8qOCzVs8iZu"
      },
      "source": [
        "model=LinearRegression().fit(X_train,Y_train)"
      ],
      "execution_count": 55,
      "outputs": []
    },
    {
      "cell_type": "code",
      "metadata": {
        "id": "jW7fPUff8iRJ"
      },
      "source": [
        "test_pred_text=model.predict(X_test)"
      ],
      "execution_count": 56,
      "outputs": []
    },
    {
      "cell_type": "code",
      "metadata": {
        "colab": {
          "base_uri": "https://localhost:8080/"
        },
        "id": "InMJHy7L8iIC",
        "outputId": "60e6b1cc-a0ff-4ce2-fd8f-38f2f65d764e"
      },
      "source": [
        "print_metrics(Y_test,test_pred_text)\n"
      ],
      "execution_count": 57,
      "outputs": [
        {
          "output_type": "stream",
          "text": [
            "MSE is 484.9189524487335\n",
            "RMSE is 22.02087537880212\n",
            "r2 score is -0.7387994645536471\n",
            "MAE is 12.722901018263434\n",
            "MAPE is inf\n"
          ],
          "name": "stdout"
        }
      ]
    },
    {
      "cell_type": "markdown",
      "metadata": {
        "id": "u-ot7N-T-AMm"
      },
      "source": [
        "RANDOM FOREST WITH PCA "
      ]
    },
    {
      "cell_type": "code",
      "metadata": {
        "id": "x638ovBm8i4E"
      },
      "source": [
        "n_estimators = np.arange(40,150,20)\n",
        "max_depth = np.arange(5,20,3)\n",
        "min_samples_split = [20,30,50]\n",
        "min_samples_leaf = [40,50,60]\n",
        "bootstrap = [True]"
      ],
      "execution_count": 58,
      "outputs": []
    },
    {
      "cell_type": "code",
      "metadata": {
        "colab": {
          "base_uri": "https://localhost:8080/"
        },
        "id": "K6fi2k-Q91-0",
        "outputId": "e5ce5e77-55b6-4249-ae08-51ae2d1df287"
      },
      "source": [
        "# Create the random grid\n",
        "random_grid = {'n_estimators': n_estimators,\n",
        "               'max_depth': max_depth,\n",
        "               'min_samples_split': min_samples_split,\n",
        "               'min_samples_leaf': min_samples_leaf,\n",
        "               'bootstrap': [True]\n",
        "              }\n",
        "\n",
        "print(random_grid)"
      ],
      "execution_count": 59,
      "outputs": [
        {
          "output_type": "stream",
          "text": [
            "{'n_estimators': array([ 40,  60,  80, 100, 120, 140]), 'max_depth': array([ 5,  8, 11, 14, 17]), 'min_samples_split': [20, 30, 50], 'min_samples_leaf': [40, 50, 60], 'bootstrap': [True]}\n"
          ],
          "name": "stdout"
        }
      ]
    },
    {
      "cell_type": "code",
      "metadata": {
        "colab": {
          "base_uri": "https://localhost:8080/"
        },
        "id": "RSR2udY0-ncw",
        "outputId": "08f88bf2-ac17-4f96-e2f9-cae49101696a"
      },
      "source": [
        "# First create the base model to tune\n",
        "rf = RandomForestRegressor()\n",
        "rf_random = GridSearchCV(estimator = rf,\n",
        "                         param_grid=random_grid,\n",
        "                         cv = 3,\n",
        "                         verbose=2,\n",
        "                         n_jobs = -1)\n",
        "\n",
        "rf_random.fit(X_train,Y_train)"
      ],
      "execution_count": null,
      "outputs": [
        {
          "metadata": {
            "tags": null
          },
          "name": "stdout",
          "output_type": "stream",
          "text": [
            "Fitting 3 folds for each of 270 candidates, totalling 810 fits\n"
          ]
        },
        {
          "metadata": {
            "tags": null
          },
          "name": "stderr",
          "output_type": "stream",
          "text": [
            "[Parallel(n_jobs=-1)]: Using backend LokyBackend with 2 concurrent workers.\n",
            "[Parallel(n_jobs=-1)]: Done  37 tasks      | elapsed:  2.3min\n"
          ]
        }
      ]
    },
    {
      "cell_type": "code",
      "metadata": {
        "id": "zViGNSE1OHUl"
      },
      "source": [
        "rf_random.best_estimator_"
      ],
      "execution_count": null,
      "outputs": []
    },
    {
      "cell_type": "code",
      "metadata": {
        "id": "en8SteJGOJs6"
      },
      "source": [
        "random_forest=rf_random.best_estimator_"
      ],
      "execution_count": null,
      "outputs": []
    },
    {
      "cell_type": "code",
      "metadata": {
        "id": "EvSWU8lc91vl"
      },
      "source": [
        "y_preds=random_forest.predict(X_test)"
      ],
      "execution_count": null,
      "outputs": []
    },
    {
      "cell_type": "code",
      "metadata": {
        "id": "sfShC7_B91n3"
      },
      "source": [
        "print_metrics(Y_test,y_preds)"
      ],
      "execution_count": null,
      "outputs": []
    },
    {
      "cell_type": "code",
      "metadata": {
        "id": "CDn4DHZE91Tj"
      },
      "source": [
        "sns.regplot(Y_test,y_preds)"
      ],
      "execution_count": null,
      "outputs": []
    },
    {
      "cell_type": "code",
      "metadata": {
        "id": "7NKLJ74j91QJ"
      },
      "source": [
        "xgb=XGBRegressor()\n",
        "xgb.fit(X_train,Y_train)"
      ],
      "execution_count": null,
      "outputs": []
    },
    {
      "cell_type": "code",
      "metadata": {
        "id": "mcltldrI91N1"
      },
      "source": [
        "y_preds_xgb=xgb.predict(X_test)\n",
        "print_metrics(Y_test,y_preds_xgb)"
      ],
      "execution_count": null,
      "outputs": []
    },
    {
      "cell_type": "markdown",
      "metadata": {
        "id": "iHyryx_GAhrt"
      },
      "source": [
        "**Vectorizer**"
      ]
    },
    {
      "cell_type": "code",
      "metadata": {
        "id": "9rSBYYqL91ME"
      },
      "source": [
        "tittle_vector=vectorize.fit_transform(news_df['token_text'])"
      ],
      "execution_count": null,
      "outputs": []
    },
    {
      "cell_type": "code",
      "metadata": {
        "id": "bYLIQFXb91KN"
      },
      "source": [
        "vectorize=TfidfVectorizer(max_df = 0.9,min_df = 10)\n",
        "headline_vector=vectorize.fit_transform(news_df['tokenize_headline'])"
      ],
      "execution_count": null,
      "outputs": []
    },
    {
      "cell_type": "code",
      "metadata": {
        "id": "faL0jkP-91H-"
      },
      "source": [
        "import numpy as np\n",
        "import pandas as pd\n",
        "import csv\n",
        "from datetime import datetime\n",
        "import sklearn\n",
        "from sklearn.linear_model import LinearRegression\n",
        "from sklearn.linear_model import Ridge\n",
        "from sklearn.linear_model import RidgeCV\n",
        "from sklearn import linear_model\n",
        "from sklearn.ensemble import RandomForestRegressor\n",
        "from sklearn.datasets import make_regression\n",
        "from sklearn.decomposition import PCA as sklearnPCA\n",
        "from sklearn.preprocessing import StandardScaler\n",
        "import matplotlib.pyplot as plt\n",
        "def parsedata(filename):\n",
        "    articles = {}\n",
        "\n",
        "    with open(filename, 'r') as csvfile:\n",
        "        ifile = csv.reader(csvfile)\n",
        "        next(ifile, None) #skip header\n",
        "        for line in ifile:\n",
        "            instance = []\n",
        "            flag = False\n",
        "            for val in line:\n",
        "                if flag:\n",
        "                    instance.append(val)\n",
        "                else:\n",
        "                    id_link = val\n",
        "                    flag = True\n",
        "            articles[id_link] = instance\n",
        "            \n",
        "    return articles"
      ],
      "execution_count": null,
      "outputs": []
    },
    {
      "cell_type": "code",
      "metadata": {
        "id": "KMFAx9em91Fw"
      },
      "source": [
        "def organize_topics(articles):\n",
        "    topics = {'economy': [], 'microsoft': [], 'obama': [], 'palestine': []}\n",
        "\n",
        "    for i in articles:\n",
        "        if articles[i][3] == 'economy':\n",
        "            topics['economy'].append(i)\n",
        "        elif articles[i][3] == 'microsoft':\n",
        "            topics['microsoft'].append(i)\n",
        "        elif articles[i][3] == 'obama':\n",
        "            topics['obama'].append(i)\n",
        "        else:\n",
        "            topics['palestine'].append(i)\n",
        "\n",
        "    return topics"
      ],
      "execution_count": null,
      "outputs": []
    },
    {
      "cell_type": "code",
      "metadata": {
        "id": "-S5y894e91Cq"
      },
      "source": [
        "def replace_NegOnes(articles, topics):\n",
        "    econ_avg_fb, econ_avg_gp, econ_avg_li = get_avg_pop(articles, topics, 'economy')\n",
        "    micro_avg_fb, micro_avg_gp, micro_avg_li = get_avg_pop(articles, topics, 'microsoft')\n",
        "    obama_avg_fb, obama_avg_gp, obama_avg_li = get_avg_pop(articles, topics, 'obama')\n",
        "    pal_avg_fb, pal_avg_gp, pal_avg_li = get_avg_pop(articles, topics, 'palestine')\n",
        "\n",
        "    for i in articles:\n",
        "        if articles[i][3] == 'economy':\n",
        "            if float(articles[i][7]) == -1.:\n",
        "                articles[i][7] = econ_avg_fb\n",
        "            if float(articles[i][8]) == -1.:\n",
        "                articles[i][8] = econ_avg_gp\n",
        "            if float(articles[i][9]) == -1.:\n",
        "                articles[i][9] = econ_avg_li\n",
        "        elif articles[i][3] == 'microsoft':\n",
        "            if float(articles[i][7]) == -1.:\n",
        "                articles[i][7] = micro_avg_fb\n",
        "            if float(articles[i][8]) == -1.:\n",
        "                articles[i][8] = micro_avg_gp\n",
        "            if float(articles[i][9]) == -1.:\n",
        "                articles[i][9] = micro_avg_li\n",
        "        elif articles[i][3] == 'obama':\n",
        "            if float(articles[i][7]) == -1.:\n",
        "                articles[i][7] = obama_avg_fb\n",
        "            if float(articles[i][8]) == -1.:\n",
        "                articles[i][8] = obama_avg_gp\n",
        "            if float(articles[i][9]) == -1.:\n",
        "                articles[i][9] = obama_avg_li\n",
        "        else:\n",
        "            if float(articles[i][7]) == -1.:\n",
        "                articles[i][7] = pal_avg_fb\n",
        "            if float(articles[i][8]) == -1.:\n",
        "                articles[i][8] = pal_avg_gp\n",
        "            if float(articles[i][9]) == -1.:\n",
        "                articles[i][9] = pal_avg_li\n",
        "    return articles"
      ],
      "execution_count": null,
      "outputs": []
    },
    {
      "cell_type": "code",
      "metadata": {
        "id": "dZtdIWKU90_r"
      },
      "source": [
        "rated_dummies = pd.get_dummies(news_df['Topic'])\n",
        "news_df=pd.concat([news_df, rated_dummies], axis=1)"
      ],
      "execution_count": null,
      "outputs": []
    },
    {
      "cell_type": "code",
      "metadata": {
        "id": "wPuwb9yQ9082"
      },
      "source": [
        "def get_avg_pop(articles, topics_dict, topic):\n",
        "    sum_fb = 0\n",
        "    sum_gp = 0\n",
        "    sum_li = 0\n",
        "    count_fb = 0\n",
        "    count_gp = 0\n",
        "    count_li = 0\n",
        "\n",
        "    for i in topics_dict[topic]:\n",
        "        if float(articles[i][7]) != -1.:\n",
        "            sum_fb += float(articles[i][7])\n",
        "            count_fb += 1.\n",
        "        if float(articles[i][8]) != -1.:\n",
        "            sum_gp += float(articles[i][8])\n",
        "            count_gp += 1.\n",
        "        if float(articles[i][9]) != -1.:\n",
        "            sum_li += float(articles[i][9])\n",
        "            count_li += 1.\n",
        "    avg_fb = sum_fb/count_fb\n",
        "    avg_gp = sum_gp/count_gp\n",
        "    avg_li = sum_li/count_li\n",
        "\n",
        "    return avg_fb, avg_gp, avg_li\n",
        "\n",
        "def add_seconds_from_date(articles):\n",
        "    start_date = '1970-01-01 '\n",
        "    for i in articles:\n",
        "        date = articles[i][4].split(\" \")\n",
        "        date = start_date + date[1]\n",
        "        articles[i][4] = get_seconds(date)\n",
        "\n",
        "    return articles\n",
        "\n",
        "def get_seconds(date):\n",
        "    datetime_object = datetime.strptime(date, '%Y-%m-%d %H:%M:%S')\n",
        "    return datetime_object.timestamp() - 28800.\n",
        "\n",
        "def create_dataframe(articles):\n",
        "    data_init = []\n",
        "    for i in articles:\n",
        "        temp = []\n",
        "        fcount = 0\n",
        "        for val in articles[i]:\n",
        "            if fcount in (0, 1, 2):\n",
        "                fcount += 1\n",
        "                continue\n",
        "            elif fcount == 3:\n",
        "                if val == \"economy\":\n",
        "                    temp.append(1)\n",
        "                    temp.append(0)\n",
        "                    temp.append(0)\n",
        "                    temp.append(0)\n",
        "                elif val == \"microsoft\":\n",
        "                    temp.append(0)\n",
        "                    temp.append(1)\n",
        "                    temp.append(0)\n",
        "                    temp.append(0)\n",
        "                elif val == \"obama\":\n",
        "                    temp.append(0)\n",
        "                    temp.append(0)\n",
        "                    temp.append(1)\n",
        "                    temp.append(0)\n",
        "                else:\n",
        "                    temp.append(0)\n",
        "                    temp.append(0)\n",
        "                    temp.append(0)\n",
        "                    temp.append(1)\n",
        "            else:\n",
        "                temp.append(float(val))\n",
        "            fcount += 1\n",
        "        data_init.append(temp)\n",
        "\n",
        "    data = pd.DataFrame(np.matrix(data_init))\n",
        "    data.columns = ['Economy', 'Microsoft', 'Obama', 'Palestine', 'Time (s)', 'SentimentTitle', 'SentimentHeadline', 'Facebook', 'GooglePlus', 'LinkedIn']\n",
        "\n",
        "    return data"
      ],
      "execution_count": null,
      "outputs": []
    },
    {
      "cell_type": "code",
      "metadata": {
        "id": "jKYFGiFICtYm"
      },
      "source": [
        "articles = parsedata('/content/drive/MyDrive/News_Final.csv')\n",
        "topics = organize_topics(articles)\n",
        "articles2 = replace_NegOnes(articles, topics)\n",
        "articles3 = add_seconds_from_date(articles2)\n",
        "garbage = create_dataframe(articles)"
      ],
      "execution_count": null,
      "outputs": []
    },
    {
      "cell_type": "code",
      "metadata": {
        "id": "axHh8qSWDbA2"
      },
      "source": [
        "garbage.head()"
      ],
      "execution_count": null,
      "outputs": []
    },
    {
      "cell_type": "code",
      "metadata": {
        "id": "BJEy3v5IDhFO"
      },
      "source": [
        "x = garbage.drop(labels=['Facebook','GooglePlus','LinkedIn'],axis=1)\n",
        "y=garbage['GooglePlus']"
      ],
      "execution_count": null,
      "outputs": []
    },
    {
      "cell_type": "code",
      "metadata": {
        "id": "gBuyitTQDkT8"
      },
      "source": [
        "x_train, x_test, y_train, y_test = train_test_split(x,y,test_size=.25,random_state=1)"
      ],
      "execution_count": null,
      "outputs": []
    },
    {
      "cell_type": "code",
      "metadata": {
        "id": "K1pB7cSqDqc2"
      },
      "source": [
        "model=LinearRegression().fit(x_train,y_train)"
      ],
      "execution_count": null,
      "outputs": []
    },
    {
      "cell_type": "code",
      "metadata": {
        "id": "ZDCSJE3ZD61O"
      },
      "source": [
        "y_preds=model.predict(x_test)"
      ],
      "execution_count": null,
      "outputs": []
    },
    {
      "cell_type": "code",
      "metadata": {
        "id": "kejJbSjMD6mJ"
      },
      "source": [
        "print_metrics(y_test,y_preds)"
      ],
      "execution_count": null,
      "outputs": []
    },
    {
      "cell_type": "code",
      "metadata": {
        "id": "9VNI9PkgD6Yv"
      },
      "source": [
        "sns.regplot(y_test,y_preds)\n"
      ],
      "execution_count": null,
      "outputs": []
    }
  ]
}